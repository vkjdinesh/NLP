{
  "nbformat": 4,
  "nbformat_minor": 0,
  "metadata": {
    "colab": {
      "name": "NLP_Preprocessing.ipynb",
      "provenance": [],
      "authorship_tag": "ABX9TyMWLFSgDLTnwsXMcLgUrorN"
    },
    "kernelspec": {
      "name": "python3",
      "display_name": "Python 3"
    },
    "language_info": {
      "name": "python"
    }
  },
  "cells": [
    {
      "cell_type": "code",
      "execution_count": 36,
      "metadata": {
        "id": "mufzWr2E3PGA"
      },
      "outputs": [],
      "source": [
        "#lib\n",
        "import numpy as np \n",
        "import pandas as pd "
      ]
    },
    {
      "cell_type": "code",
      "source": [
        "#to download the datasets (https://www.kaggle.com/datasets/marklvl/sentiment-labelled-sentences-data-set)\n",
        "data_imdb = pd.read_csv(\"imdb_labelled.txt\", delimiter='\\t', header=None)\n",
        "data_imdb.columns = [\"Review_text\", \"Review_class\"]\n",
        "\n",
        "data_amazon = pd.read_csv(\"amazon_cells_labelled.txt\", delimiter='\\t', header=None)\n",
        "data_amazon.columns = [\"Review_text\", \"Review_class\"]\n",
        "\n",
        "data_yelp = pd.read_csv(\"yelp_labelled.txt\", delimiter='\\t', header=None)\n",
        "data_yelp.columns = [\"Review_text\", \"Review_class\"]\n",
        "\n",
        "data = pd.concat([data_imdb, data_amazon, data_yelp])\n",
        "data"
      ],
      "metadata": {
        "colab": {
          "base_uri": "https://localhost:8080/",
          "height": 424
        },
        "id": "XiOv5YWI3YHR",
        "outputId": "f6ab8237-0652-430f-dbec-df8bf22e09a3"
      },
      "execution_count": 37,
      "outputs": [
        {
          "output_type": "execute_result",
          "data": {
            "text/plain": [
              "                                           Review_text  Review_class\n",
              "0    A very, very, very slow-moving, aimless movie ...             0\n",
              "1    Not sure who was more lost - the flat characte...             0\n",
              "2    Attempting artiness with black & white and cle...             0\n",
              "3         Very little music or anything to speak of.               0\n",
              "4    The best scene in the movie was when Gerardo i...             1\n",
              "..                                                 ...           ...\n",
              "995  I think food should have flavor and texture an...             0\n",
              "996                           Appetite instantly gone.             0\n",
              "997  Overall I was not impressed and would not go b...             0\n",
              "998  The whole experience was underwhelming, and I ...             0\n",
              "999  Then, as if I hadn't wasted enough of my life ...             0\n",
              "\n",
              "[2748 rows x 2 columns]"
            ],
            "text/html": [
              "\n",
              "  <div id=\"df-ecc35f34-a0d7-4446-ac0c-a10457670b4c\">\n",
              "    <div class=\"colab-df-container\">\n",
              "      <div>\n",
              "<style scoped>\n",
              "    .dataframe tbody tr th:only-of-type {\n",
              "        vertical-align: middle;\n",
              "    }\n",
              "\n",
              "    .dataframe tbody tr th {\n",
              "        vertical-align: top;\n",
              "    }\n",
              "\n",
              "    .dataframe thead th {\n",
              "        text-align: right;\n",
              "    }\n",
              "</style>\n",
              "<table border=\"1\" class=\"dataframe\">\n",
              "  <thead>\n",
              "    <tr style=\"text-align: right;\">\n",
              "      <th></th>\n",
              "      <th>Review_text</th>\n",
              "      <th>Review_class</th>\n",
              "    </tr>\n",
              "  </thead>\n",
              "  <tbody>\n",
              "    <tr>\n",
              "      <th>0</th>\n",
              "      <td>A very, very, very slow-moving, aimless movie ...</td>\n",
              "      <td>0</td>\n",
              "    </tr>\n",
              "    <tr>\n",
              "      <th>1</th>\n",
              "      <td>Not sure who was more lost - the flat characte...</td>\n",
              "      <td>0</td>\n",
              "    </tr>\n",
              "    <tr>\n",
              "      <th>2</th>\n",
              "      <td>Attempting artiness with black &amp; white and cle...</td>\n",
              "      <td>0</td>\n",
              "    </tr>\n",
              "    <tr>\n",
              "      <th>3</th>\n",
              "      <td>Very little music or anything to speak of.</td>\n",
              "      <td>0</td>\n",
              "    </tr>\n",
              "    <tr>\n",
              "      <th>4</th>\n",
              "      <td>The best scene in the movie was when Gerardo i...</td>\n",
              "      <td>1</td>\n",
              "    </tr>\n",
              "    <tr>\n",
              "      <th>...</th>\n",
              "      <td>...</td>\n",
              "      <td>...</td>\n",
              "    </tr>\n",
              "    <tr>\n",
              "      <th>995</th>\n",
              "      <td>I think food should have flavor and texture an...</td>\n",
              "      <td>0</td>\n",
              "    </tr>\n",
              "    <tr>\n",
              "      <th>996</th>\n",
              "      <td>Appetite instantly gone.</td>\n",
              "      <td>0</td>\n",
              "    </tr>\n",
              "    <tr>\n",
              "      <th>997</th>\n",
              "      <td>Overall I was not impressed and would not go b...</td>\n",
              "      <td>0</td>\n",
              "    </tr>\n",
              "    <tr>\n",
              "      <th>998</th>\n",
              "      <td>The whole experience was underwhelming, and I ...</td>\n",
              "      <td>0</td>\n",
              "    </tr>\n",
              "    <tr>\n",
              "      <th>999</th>\n",
              "      <td>Then, as if I hadn't wasted enough of my life ...</td>\n",
              "      <td>0</td>\n",
              "    </tr>\n",
              "  </tbody>\n",
              "</table>\n",
              "<p>2748 rows × 2 columns</p>\n",
              "</div>\n",
              "      <button class=\"colab-df-convert\" onclick=\"convertToInteractive('df-ecc35f34-a0d7-4446-ac0c-a10457670b4c')\"\n",
              "              title=\"Convert this dataframe to an interactive table.\"\n",
              "              style=\"display:none;\">\n",
              "        \n",
              "  <svg xmlns=\"http://www.w3.org/2000/svg\" height=\"24px\"viewBox=\"0 0 24 24\"\n",
              "       width=\"24px\">\n",
              "    <path d=\"M0 0h24v24H0V0z\" fill=\"none\"/>\n",
              "    <path d=\"M18.56 5.44l.94 2.06.94-2.06 2.06-.94-2.06-.94-.94-2.06-.94 2.06-2.06.94zm-11 1L8.5 8.5l.94-2.06 2.06-.94-2.06-.94L8.5 2.5l-.94 2.06-2.06.94zm10 10l.94 2.06.94-2.06 2.06-.94-2.06-.94-.94-2.06-.94 2.06-2.06.94z\"/><path d=\"M17.41 7.96l-1.37-1.37c-.4-.4-.92-.59-1.43-.59-.52 0-1.04.2-1.43.59L10.3 9.45l-7.72 7.72c-.78.78-.78 2.05 0 2.83L4 21.41c.39.39.9.59 1.41.59.51 0 1.02-.2 1.41-.59l7.78-7.78 2.81-2.81c.8-.78.8-2.07 0-2.86zM5.41 20L4 18.59l7.72-7.72 1.47 1.35L5.41 20z\"/>\n",
              "  </svg>\n",
              "      </button>\n",
              "      \n",
              "  <style>\n",
              "    .colab-df-container {\n",
              "      display:flex;\n",
              "      flex-wrap:wrap;\n",
              "      gap: 12px;\n",
              "    }\n",
              "\n",
              "    .colab-df-convert {\n",
              "      background-color: #E8F0FE;\n",
              "      border: none;\n",
              "      border-radius: 50%;\n",
              "      cursor: pointer;\n",
              "      display: none;\n",
              "      fill: #1967D2;\n",
              "      height: 32px;\n",
              "      padding: 0 0 0 0;\n",
              "      width: 32px;\n",
              "    }\n",
              "\n",
              "    .colab-df-convert:hover {\n",
              "      background-color: #E2EBFA;\n",
              "      box-shadow: 0px 1px 2px rgba(60, 64, 67, 0.3), 0px 1px 3px 1px rgba(60, 64, 67, 0.15);\n",
              "      fill: #174EA6;\n",
              "    }\n",
              "\n",
              "    [theme=dark] .colab-df-convert {\n",
              "      background-color: #3B4455;\n",
              "      fill: #D2E3FC;\n",
              "    }\n",
              "\n",
              "    [theme=dark] .colab-df-convert:hover {\n",
              "      background-color: #434B5C;\n",
              "      box-shadow: 0px 1px 3px 1px rgba(0, 0, 0, 0.15);\n",
              "      filter: drop-shadow(0px 1px 2px rgba(0, 0, 0, 0.3));\n",
              "      fill: #FFFFFF;\n",
              "    }\n",
              "  </style>\n",
              "\n",
              "      <script>\n",
              "        const buttonEl =\n",
              "          document.querySelector('#df-ecc35f34-a0d7-4446-ac0c-a10457670b4c button.colab-df-convert');\n",
              "        buttonEl.style.display =\n",
              "          google.colab.kernel.accessAllowed ? 'block' : 'none';\n",
              "\n",
              "        async function convertToInteractive(key) {\n",
              "          const element = document.querySelector('#df-ecc35f34-a0d7-4446-ac0c-a10457670b4c');\n",
              "          const dataTable =\n",
              "            await google.colab.kernel.invokeFunction('convertToInteractive',\n",
              "                                                     [key], {});\n",
              "          if (!dataTable) return;\n",
              "\n",
              "          const docLinkHtml = 'Like what you see? Visit the ' +\n",
              "            '<a target=\"_blank\" href=https://colab.research.google.com/notebooks/data_table.ipynb>data table notebook</a>'\n",
              "            + ' to learn more about interactive tables.';\n",
              "          element.innerHTML = '';\n",
              "          dataTable['output_type'] = 'display_data';\n",
              "          await google.colab.output.renderOutput(dataTable, element);\n",
              "          const docLink = document.createElement('div');\n",
              "          docLink.innerHTML = docLinkHtml;\n",
              "          element.appendChild(docLink);\n",
              "        }\n",
              "      </script>\n",
              "    </div>\n",
              "  </div>\n",
              "  "
            ]
          },
          "metadata": {},
          "execution_count": 37
        }
      ]
    },
    {
      "cell_type": "code",
      "source": [
        "import nltk\n",
        "nltk.download('punkt')\n",
        "nltk.download('stopwords')"
      ],
      "metadata": {
        "colab": {
          "base_uri": "https://localhost:8080/"
        },
        "id": "Yde2Tn_c5ydA",
        "outputId": "49d886b8-aa1e-4050-bd0f-17713c51bd5d"
      },
      "execution_count": 38,
      "outputs": [
        {
          "output_type": "stream",
          "name": "stderr",
          "text": [
            "[nltk_data] Downloading package punkt to /root/nltk_data...\n",
            "[nltk_data]   Package punkt is already up-to-date!\n",
            "[nltk_data] Downloading package stopwords to /root/nltk_data...\n",
            "[nltk_data]   Package stopwords is already up-to-date!\n"
          ]
        },
        {
          "output_type": "execute_result",
          "data": {
            "text/plain": [
              "True"
            ]
          },
          "metadata": {},
          "execution_count": 38
        }
      ]
    },
    {
      "cell_type": "code",
      "source": [
        "import re\n",
        "import nltk\n",
        "import string\n",
        "from nltk.tokenize import word_tokenize\n",
        "from nltk.corpus import stopwords\n",
        "from nltk.stem.porter import PorterStemmer"
      ],
      "metadata": {
        "id": "wtE9PmO-5DO_"
      },
      "execution_count": 39,
      "outputs": []
    },
    {
      "cell_type": "code",
      "source": [
        "def clean_text(df):\n",
        "    all_reviews = list()\n",
        "    lines = df[\"Review_text\"].values.tolist()\n",
        "    for text in lines:\n",
        "        text = text.lower()\n",
        "        \n",
        "        pattern = re.compile('http[s]?://(?:[a-zA-Z]|[0-9]|[$-_@.&+]|[!*\\(\\),]|(?:%[0-9a-fA-F][0-9a-fA-F]))+')\n",
        "        text = pattern.sub('', text)\n",
        "        \n",
        "        emoji = re.compile(\"[\"\n",
        "                           u\"\\U0001F600-\\U0001FFFF\"  # emoticons\n",
        "                           u\"\\U0001F300-\\U0001F5FF\"  # symbols & pictographs\n",
        "                           u\"\\U0001F680-\\U0001F6FF\"  # transport & map symbols\n",
        "                           u\"\\U0001F1E0-\\U0001F1FF\"  # flags (iOS)\n",
        "                           u\"\\U00002702-\\U000027B0\"\n",
        "                           u\"\\U000024C2-\\U0001F251\"\n",
        "                           \"]+\", flags=re.UNICODE)\n",
        "        text = emoji.sub(r'', text)\n",
        "        \n",
        "        text = re.sub(r\"i'm\", \"i am\", text)\n",
        "        text = re.sub(r\"he's\", \"he is\", text)\n",
        "        text = re.sub(r\"she's\", \"she is\", text)\n",
        "        text = re.sub(r\"that's\", \"that is\", text)        \n",
        "        text = re.sub(r\"what's\", \"what is\", text)\n",
        "        text = re.sub(r\"where's\", \"where is\", text) \n",
        "        text = re.sub(r\"\\'ll\", \" will\", text)  \n",
        "        text = re.sub(r\"\\'ve\", \" have\", text)  \n",
        "        text = re.sub(r\"\\'re\", \" are\", text)\n",
        "        text = re.sub(r\"\\'d\", \" would\", text)\n",
        "        text = re.sub(r\"\\'ve\", \" have\", text)\n",
        "        text = re.sub(r\"won't\", \"will not\", text)\n",
        "        text = re.sub(r\"don't\", \"do not\", text)\n",
        "        text = re.sub(r\"did't\", \"did not\", text)\n",
        "        text = re.sub(r\"can't\", \"can not\", text)\n",
        "        text = re.sub(r\"it's\", \"it is\", text)\n",
        "        text = re.sub(r\"couldn't\", \"could not\", text)\n",
        "        text = re.sub(r\"have't\", \"have not\", text)\n",
        "        \n",
        "        text = re.sub(r\"[,.\\\"!@#$%^&*(){}?/;`~:<>+=-]\", \"\", text)\n",
        "        tokens = word_tokenize(text)\n",
        "        table = str.maketrans('', '', string.punctuation)\n",
        "        stripped = [w.translate(table) for w in tokens]\n",
        "        words = [word for word in stripped if word.isalpha()]\n",
        "#         stop_words = set(stopwords.words(\"english\"))\n",
        "#         stop_words.discard(\"not\")\n",
        "#         words = [w for w in words if not w in stop_words]\n",
        "        words = ' '.join(words)\n",
        "        all_reviews.append(words)\n",
        "    return all_reviews\n",
        "\n",
        "all_reviews = clean_text(data)\n",
        "all_reviews[0:20]"
      ],
      "metadata": {
        "colab": {
          "base_uri": "https://localhost:8080/"
        },
        "id": "4Ur4y9kK5GXf",
        "outputId": "873a8199-c153-434b-9a52-d88134c38066"
      },
      "execution_count": 47,
      "outputs": [
        {
          "output_type": "execute_result",
          "data": {
            "text/plain": [
              "['a very very very slowmoving aimless movie about a distressed drifting young man',\n",
              " 'not sure who was more lost the flat characters or the audience nearly half of whom walked out',\n",
              " 'attempting artiness with black white and clever camera angles the movie disappointed became even more ridiculous as the acting was poor and the plot and lines almost nonexistent',\n",
              " 'very little music or anything to speak of',\n",
              " 'the best scene in the movie was when gerardo is trying to find a song that keeps running through his head',\n",
              " 'the rest of the movie lacks art charm meaning if it is about emptiness it works i guess because it is empty',\n",
              " 'wasted two hours',\n",
              " 'saw the movie today and thought it was a good effort good messages for kids',\n",
              " 'a bit predictable',\n",
              " 'loved the casting of jimmy buffet as the science teacher',\n",
              " 'and those baby owls were adorable',\n",
              " 'the movie showed a lot of florida at it is best made it look very appealing',\n",
              " 'the songs were the best and the muppets were so hilarious',\n",
              " 'it was so cool',\n",
              " 'this is a very right on case movie that delivers everything almost right in your face',\n",
              " 'it had some average acting from the main person and it was a low budget as you clearly can see',\n",
              " 'this review is long overdue since i consider a tale of two sisters to be the single greatest film ever made',\n",
              " 'i will put this gem up against any movie in terms of screenplay cinematography acting postproduction editing directing or any other aspect of filmmaking',\n",
              " 'it is practically perfect in all of them a true masterpiece in a sea of faux masterpieces',\n",
              " 'the structure of this film is easily the most tightly constructed in the history of cinema i can think of no other film where something vitally important occurs every other minute in other words the content level of this film is enough to easily fill a dozen other films how can anyone in their right mind ask for anything more from a movie than this it is quite simply the highest most superlative form of cinema imaginable yes this film does require a rather significant amount of puzzlesolving but the pieces fit together to create a beautiful picture this short film certainly pulls no punches graphics is far from the best part of the game this is the number one best th game in the series it deserves strong love it is an insane game there are massive levels massive unlockable characters it is just a massive game waste your money on this game this is the kind of money that is wasted properly actually the graphics were good at the time today the graphics are crap as they say in canada this is the fun game aye this game rocks buy it play it enjoy it love it it is pure brilliance this was a flick doomed from its conception the very idea of it was lame take a minor character from a mediocre film and make a complete nonsequel while changing its tone to a pgrated family movie i was nt the least bit interested not only did it only confirm that the film would be unfunny and generic but it also managed to give away the entire movie and i am not exaggerating every moment every plot point every joke is told in the trailer but it is just not funny but even the talented carrell can not save this his costars do not fare much better with people like morgan freeman jonah hill and ed helms just wasted the story itself is just predictable and lazy the only real effects work is the presence of all the animals and the integration of those into the scenes is some of the worst and most obvious bluegreenscreen work i have ever seen but whatever it was that cost them so much it did nt translate to quality that is for sure the film succeeds despite or perhaps because of an obviously meagre budget i am glad the film did nt go for the most obvious choice as a lesser film certainly would have in addition to having one of the most lovely songs ever written french cancan also boasts one of the cutest leading ladies ever to grace the screen it is hard not to fall headoverheels in love with that girl on the negative it is insipid enough to cause regret for another hours of life wasted in front of the screen long whiny and pointless but i recommend waiting for their future efforts let this one go excellent cast story line performances totally believable anne heche was utterly convincing sam shepard s portrayal of a gung ho marine was sobering i sat riveted to the tv screen all in all i give this one a resounding out of i do think tom hanks is a good actor i enjoyed reading this book to my children when they were little i was very disappointed in the movie one character is totally annoying with a voice that gives me the feeling of fingernails on a chalkboard there is a totally unnecessary trainroller coaster scene there was absolutely no warmth or charm to these scenes or characters this movie totally grates on my nerves the performances are not improved by improvisation because the actors now have twice as much to worry about not only whether they are delivering the line well but whether the line itself is any good and quite honestly often its not very good often the dialogue does nt really follow from one line to another or fit the surroundings it crackles with an unpredictable youthful energy but honestly i found it hard to follow and concentrate on it meanders so badly there are some generally great things in it i would nt say they are worth hours of your time though the suspense builders were good just cross the line from g to pg i especially liked the noncliche choices with the parents in other movies i could predict the dialog verbatim but the writing in this movie made better selections if you want a movie that is not gross but gives you some chills this is a great choice alexander nevsky is a great film he is an amazing film artist one of the most important whoever lived i am glad this pretentious piece of s did nt do as planned by the dodge stratus big shots it is gon na help movie makers who are nt in the very restrained movie business of québec']"
            ]
          },
          "metadata": {},
          "execution_count": 47
        }
      ]
    },
    {
      "cell_type": "code",
      "source": [
        "df = pd.DataFrame([\"I'll suggest you to open https://www.google.com/ and search NERDY WITS\"])\n",
        "df.columns = [\"Review_text\"]\n",
        "cleaned_text = clean_text(df)\n",
        "cleaned_text"
      ],
      "metadata": {
        "colab": {
          "base_uri": "https://localhost:8080/"
        },
        "id": "0D4Osw4a7EoK",
        "outputId": "3804821a-e84c-47e5-d877-5cfe5b572f43"
      },
      "execution_count": 48,
      "outputs": [
        {
          "output_type": "execute_result",
          "data": {
            "text/plain": [
              "['i will suggest you to open and search nerdy wits']"
            ]
          },
          "metadata": {},
          "execution_count": 48
        }
      ]
    }
  ]
}